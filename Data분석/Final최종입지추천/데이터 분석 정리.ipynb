{
 "cells": [
  {
   "cell_type": "code",
   "execution_count": 61,
   "metadata": {},
   "outputs": [],
   "source": [
    "import pandas_profiling\n",
    "\n",
    "import pandas as pd\n",
    "import numpy as np\n",
    "\n",
    "\n",
    "from matplotlib import rc, font_manager\n",
    "rc('font', family='NanumGothic')\n",
    "\n",
    "import seaborn as sns\n",
    "import json\n",
    "import folium\n"
   ]
  },
  {
   "cell_type": "code",
   "execution_count": 62,
   "metadata": {},
   "outputs": [],
   "source": [
    "final=pd.read_csv('final_data_real_1.csv', index_col=[0])"
   ]
  },
  {
   "cell_type": "code",
   "execution_count": 63,
   "metadata": {},
   "outputs": [
    {
     "data": {
      "text/plain": [
       "Index(['자치구', '동', '동별_승용차수', 'edu_percent', '동별_친환경자동차수', 'store_총_개소',\n",
       "       '백화점_개소', '합계_사업체수', '㎡당 매매평균가', '행정구역코드', '가구수별_승용차수', '동별_수소차_대수',\n",
       "       '택시', '수소충전소', '업체명', '동주소', '경도', '위도', '주차장명', '주차장구분', '주차장유형',\n",
       "       '주차구획수', '주차급지구분', '주차부제시행구분', '주차운영요일', '평일운영시작시각', '평일운영종료시각',\n",
       "       '토요일운영시작시각', '토요일운영종료시각', '주차요금정보', '주차기본시간', '주차기본요금', '주차경도', '주차위도'],\n",
       "      dtype='object')"
      ]
     },
     "execution_count": 63,
     "metadata": {},
     "output_type": "execute_result"
    }
   ],
   "source": [
    "final.columns"
   ]
  },
  {
   "cell_type": "markdown",
   "metadata": {},
   "source": [
    "# 중첩분석에 쓰인 변수 설명"
   ]
  },
  {
   "cell_type": "code",
   "execution_count": 64,
   "metadata": {},
   "outputs": [],
   "source": [
    "X =final[['자치구', '동', 'edu_percent', '동별_친환경자동차수', 'store_총_개소',\n",
    "       '백화점_개소', '합계_사업체수', '㎡당 매매평균가',  '가구수별_승용차수', '동별_수소차_대수',\n",
    "       '택시', '수소충전소','행정구역코드']]"
   ]
  },
  {
   "cell_type": "code",
   "execution_count": 65,
   "metadata": {},
   "outputs": [],
   "source": [
    "X.drop_duplicates(['자치구','동'], keep='first', inplace=True)"
   ]
  },
  {
   "cell_type": "code",
   "execution_count": 58,
   "metadata": {},
   "outputs": [],
   "source": [
    "pandas_profiling.ProfileReport(X).to_file(output_file=\"output.html\")"
   ]
  },
  {
   "cell_type": "code",
   "execution_count": 66,
   "metadata": {},
   "outputs": [
    {
     "name": "stdout",
     "output_type": "stream",
     "text": [
      "<class 'pandas.core.frame.DataFrame'>\n",
      "Int64Index: 424 entries, 0 to 587\n",
      "Data columns (total 13 columns):\n",
      "자치구            424 non-null object\n",
      "동              424 non-null object\n",
      "edu_percent    424 non-null float64\n",
      "동별_친환경자동차수     424 non-null float64\n",
      "store_총_개소     424 non-null float64\n",
      "백화점_개소         424 non-null float64\n",
      "합계_사업체수        424 non-null int64\n",
      "㎡당 매매평균가       424 non-null float64\n",
      "가구수별_승용차수      424 non-null float64\n",
      "동별_수소차_대수      424 non-null float64\n",
      "택시             424 non-null float64\n",
      "수소충전소          424 non-null int64\n",
      "행정구역코드         424 non-null float64\n",
      "dtypes: float64(9), int64(2), object(2)\n",
      "memory usage: 46.4+ KB\n"
     ]
    }
   ],
   "source": [
    "X.info()"
   ]
  },
  {
   "attachments": {
    "image.png": {
     "image/png": "[encoded data removed]"
    }
   },
   "cell_type": "markdown",
   "metadata": {},
   "source": [
    "![image.png](attachment:image.png)"
   ]
  },
  {
   "cell_type": "markdown",
   "metadata": {},
   "source": [
    "서울시 수소충전소 "
   ]
  },
  {
   "cell_type": "code",
   "execution_count": null,
   "metadata": {},
   "outputs": [],
   "source": []
  },
  {
   "cell_type": "code",
   "execution_count": null,
   "metadata": {},
   "outputs": [],
   "source": []
  },
  {
   "cell_type": "code",
   "execution_count": null,
   "metadata": {},
   "outputs": [],
   "source": []
  },
  {
   "cell_type": "code",
   "execution_count": null,
   "metadata": {},
   "outputs": [],
   "source": []
  },
  {
   "cell_type": "code",
   "execution_count": null,
   "metadata": {},
   "outputs": [],
   "source": []
  },
  {
   "cell_type": "code",
   "execution_count": null,
   "metadata": {},
   "outputs": [],
   "source": []
  },
  {
   "cell_type": "code",
   "execution_count": null,
   "metadata": {},
   "outputs": [],
   "source": []
  },
  {
   "cell_type": "code",
   "execution_count": null,
   "metadata": {},
   "outputs": [],
   "source": []
  },
  {
   "cell_type": "code",
   "execution_count": null,
   "metadata": {},
   "outputs": [],
   "source": []
  }
 ],
 "metadata": {
  "kernelspec": {
   "display_name": "Python 3",
   "language": "python",
   "name": "python3"
  },
  "language_info": {
   "codemirror_mode": {
    "name": "ipython",
    "version": 3
   },
   "file_extension": ".py",
   "mimetype": "text/x-python",
   "name": "python",
   "nbconvert_exporter": "python",
   "pygments_lexer": "ipython3",
   "version": "3.7.3"
  }
 },
 "nbformat": 4,
 "nbformat_minor": 2
}
